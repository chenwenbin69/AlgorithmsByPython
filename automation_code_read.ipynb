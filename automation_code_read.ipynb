{
  "nbformat": 4,
  "nbformat_minor": 0,
  "metadata": {
    "colab": {
      "name": "automation_code_read.ipynb",
      "provenance": [],
      "collapsed_sections": [],
      "include_colab_link": true
    },
    "kernelspec": {
      "name": "python3",
      "display_name": "Python 3"
    }
  },
  "cells": [
    {
      "cell_type": "markdown",
      "metadata": {
        "id": "view-in-github",
        "colab_type": "text"
      },
      "source": [
        "<a href=\"https://colab.research.google.com/github/chenwenbin69/AlgorithmsByPython/blob/master/automation_code_read.ipynb\" target=\"_parent\"><img src=\"https://colab.research.google.com/assets/colab-badge.svg\" alt=\"Open In Colab\"/></a>"
      ]
    },
    {
      "cell_type": "markdown",
      "metadata": {
        "id": "sPHvPZa3A4bo",
        "colab_type": "text"
      },
      "source": [
        "打印函数\n"
      ]
    },
    {
      "cell_type": "code",
      "metadata": {
        "id": "CQ2cbi15_Ssx",
        "colab_type": "code",
        "outputId": "fbb976de-c8fb-4be0-b564-2e7678aa2750",
        "colab": {
          "base_uri": "https://localhost:8080/",
          "height": 34
        }
      },
      "source": [
        "def log(*args,**kwargs):\n",
        "  print(*args,**kwargs)\n",
        "\n",
        "log([1,'2'])"
      ],
      "execution_count": 0,
      "outputs": [
        {
          "output_type": "stream",
          "text": [
            "[1, '2']\n"
          ],
          "name": "stdout"
        }
      ]
    },
    {
      "cell_type": "markdown",
      "metadata": {
        "id": "U_UPpFDUAvlm",
        "colab_type": "text"
      },
      "source": [
        ""
      ]
    }
  ]
}